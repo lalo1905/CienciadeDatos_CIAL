{
  "nbformat": 4,
  "nbformat_minor": 0,
  "metadata": {
    "colab": {
      "provenance": [],
      "include_colab_link": true
    },
    "kernelspec": {
      "name": "python3",
      "display_name": "Python 3"
    },
    "language_info": {
      "name": "python"
    }
  },
  "cells": [
    {
      "cell_type": "markdown",
      "metadata": {
        "id": "view-in-github",
        "colab_type": "text"
      },
      "source": [
        "<a href=\"https://colab.research.google.com/github/lalo1905/CienciadeDatos_CIAL/blob/main/C%C3%A1ncer.ipynb\" target=\"_parent\"><img src=\"https://colab.research.google.com/assets/colab-badge.svg\" alt=\"Open In Colab\"/></a>"
      ]
    },
    {
      "cell_type": "code",
      "execution_count": null,
      "metadata": {
        "id": "P69sN-2t3Rjx",
        "colab": {
          "base_uri": "https://localhost:8080/"
        },
        "outputId": "3ff6aa69-56a1-4ae6-ab88-0f240c668235"
      },
      "outputs": [
        {
          "output_type": "stream",
          "name": "stdout",
          "text": [
            "Drive already mounted at /content/drive; to attempt to forcibly remount, call drive.mount(\"/content/drive\", force_remount=True).\n",
            "Primeras filas del dataset:\n",
            "         ID Diagnosis  Radius_mean  Texture_mean  Perimeter_mean  Area_mean  \\\n",
            "0    842302         M        17.99         10.38          122.80     1001.0   \n",
            "1    842517         M        20.57         17.77          132.90     1326.0   \n",
            "2  84300903         M        19.69         21.25          130.00     1203.0   \n",
            "3  84348301         M        11.42         20.38           77.58      386.1   \n",
            "4  84358402         M        20.29         14.34          135.10     1297.0   \n",
            "\n",
            "   Smoothness_mean  Compactness_mean  Concavity_mean  Concave points_mean  \\\n",
            "0          0.11840           0.27760          0.3001              0.14710   \n",
            "1          0.08474           0.07864          0.0869              0.07017   \n",
            "2          0.10960           0.15990          0.1974              0.12790   \n",
            "3          0.14250           0.28390          0.2414              0.10520   \n",
            "4          0.10030           0.13280          0.1980              0.10430   \n",
            "\n",
            "   ...  Radius_worst  Texture_worst  Perimeter_worst  Area_worst  \\\n",
            "0  ...         25.38          17.33           184.60      2019.0   \n",
            "1  ...         24.99          23.41           158.80      1956.0   \n",
            "2  ...         23.57          25.53           152.50      1709.0   \n",
            "3  ...         14.91          26.50            98.87       567.7   \n",
            "4  ...         22.54          16.67           152.20      1575.0   \n",
            "\n",
            "   Smoothness_worst  Compactness_worst  Concavity_worst  Concave points_worst  \\\n",
            "0            0.1622             0.6656           0.7119                0.2654   \n",
            "1            0.1238             0.1866           0.2416                0.1860   \n",
            "2            0.1444             0.4245           0.4504                0.2430   \n",
            "3            0.2098             0.8663           0.6869                0.2575   \n",
            "4            0.1374             0.2050           0.4000                0.1625   \n",
            "\n",
            "   Symmetry_worst  Fractal_dimension_worst  \n",
            "0          0.4601                  0.11890  \n",
            "1          0.2750                  0.08902  \n",
            "2          0.3613                  0.08758  \n",
            "3          0.6638                  0.17300  \n",
            "4          0.2364                  0.07678  \n",
            "\n",
            "[5 rows x 32 columns]\n",
            "Informe de clasificación:\n",
            "              precision    recall  f1-score   support\n",
            "\n",
            "           0       0.97      0.96      0.96        71\n",
            "           1       0.93      0.95      0.94        43\n",
            "\n",
            "    accuracy                           0.96       114\n",
            "   macro avg       0.95      0.96      0.95       114\n",
            "weighted avg       0.96      0.96      0.96       114\n",
            "\n",
            "Exactitud del modelo: 95.61%\n"
          ]
        }
      ],
      "source": [
        "\n",
        "# CONECTAMOS AL DRIVE\n",
        "from google.colab import drive  # MONTAR MI DRIVE\n",
        "drive.mount('/content/drive')  # MI DRIVE\n",
        "groot = 'drive/MyDrive/Colab Notebooks'\n",
        "\n",
        "# IMPORTAR LAS LIBRERÍAS NECESARIAS\n",
        "import pandas as pd\n",
        "from sklearn.model_selection import train_test_split\n",
        "from sklearn.preprocessing import StandardScaler\n",
        "from sklearn.svm import SVC\n",
        "from sklearn.metrics import classification_report, accuracy_score\n",
        "\n",
        "# CARGAR EL DATASET DESDE EL ARCHIVO EN GOOGLE DRIVE\n",
        "data_path = f'{groot}/wdbc.data'\n",
        "\n",
        "# DEFINIR NOMBRES DE LAS COLUMNAS SEGÚN 'wdbc.names'\n",
        "column_names = [\n",
        "    \"ID\", \"Diagnosis\", \"Radius_mean\", \"Texture_mean\", \"Perimeter_mean\", \"Area_mean\", \"Smoothness_mean\",\n",
        "    \"Compactness_mean\", \"Concavity_mean\", \"Concave points_mean\", \"Symmetry_mean\", \"Fractal_dimension_mean\",\n",
        "    \"Radius_se\", \"Texture_se\", \"Perimeter_se\", \"Area_se\", \"Smoothness_se\", \"Compactness_se\", \"Concavity_se\",\n",
        "    \"Concave points_se\", \"Symmetry_se\", \"Fractal_dimension_se\", \"Radius_worst\", \"Texture_worst\", \"Perimeter_worst\",\n",
        "    \"Area_worst\", \"Smoothness_worst\", \"Compactness_worst\", \"Concavity_worst\", \"Concave points_worst\",\n",
        "    \"Symmetry_worst\", \"Fractal_dimension_worst\"\n",
        "]\n",
        "\n",
        "# CARGAR EL DATASET UTILIZANDO PANDAS\n",
        "df = pd.read_csv(data_path, header=None, names=column_names)\n",
        "\n",
        "# VERIFICAR LA CARGA DE DATOS\n",
        "print(\"Primeras filas del dataset:\")\n",
        "print(df.head())\n",
        "\n",
        "# PREPROCESAMIENTO DE DATOS\n",
        "# ELIMINAR LA COLUMNA 'ID' YA QUE NO CONTRIBUYE AL MODELO\n",
        "df.drop('ID', axis=1, inplace=True)\n",
        "\n",
        "# CONVERTIR LA COLUMNA 'Diagnosis' A VALORES NUMÉRICOS (M = 1, B = 0)\n",
        "df['Diagnosis'] = df['Diagnosis'].map({'M': 1, 'B': 0})\n",
        "\n",
        "# DIVIDIR LOS DATOS ENTRE ATRIBUTOS (X) Y ETIQUETAS (Y)\n",
        "X = df.drop('Diagnosis', axis=1)\n",
        "y = df['Diagnosis']\n",
        "\n",
        "# DIVIDIR EL CONJUNTO DE DATOS EN ENTRENAMIENTO Y PRUEBA (80% ENTRENAMIENTO, 20% PRUEBA)\n",
        "X_train, X_test, y_train, y_test = train_test_split(X, y, test_size=0.2, random_state=42)\n",
        "\n",
        "# ESCALAR LOS DATOS UTILIZANDO StandardScaler\n",
        "scaler = StandardScaler()\n",
        "X_train_scaled = scaler.fit_transform(X_train)\n",
        "X_test_scaled = scaler.transform(X_test)\n",
        "\n",
        "# ENTRENAR UN MODELO SVM CON UN KERNEL LINEAL\n",
        "model = SVC(kernel='linear')\n",
        "model.fit(X_train_scaled, y_train)\n",
        "\n",
        "# HACER PREDICCIONES SOBRE EL CONJUNTO DE PRUEBA\n",
        "y_pred = model.predict(X_test_scaled)\n",
        "\n",
        "# MOSTRAR EL INFORME DE CLASIFICACIÓN\n",
        "print(\"Informe de clasificación:\")\n",
        "print(classification_report(y_test, y_pred))\n",
        "\n",
        "# MOSTRAR LA EXACTITUD DEL MODELO\n",
        "accuracy = accuracy_score(y_test, y_pred)\n",
        "print(f\"Exactitud del modelo: {accuracy * 100:.2f}%\")"
      ]
    },
    {
      "cell_type": "code",
      "source": [],
      "metadata": {
        "id": "c83HaPKIKaPv"
      },
      "execution_count": null,
      "outputs": []
    },
    {
      "cell_type": "code",
      "source": [
        "\n",
        "# IMPORTAR LAS LIBRERÍAS NECESARIAS PARA LAS GRÁFICAS\n",
        "import matplotlib.pyplot as plt\n",
        "import seaborn as sns\n",
        "from sklearn.metrics import confusion_matrix\n",
        "\n",
        "# GRAFICAR LA MATRIZ DE CONFUSIÓN DE LAS PREDICCIONES\n",
        "conf_matrix = confusion_matrix(y_test, y_pred)\n",
        "plt.figure(figsize=(6, 4))\n",
        "sns.heatmap(conf_matrix, annot=True, fmt='d', cmap='Blues')\n",
        "plt.title('Matriz de Confusión')\n",
        "plt.ylabel('Valores Verdaderos')\n",
        "plt.xlabel('Predicciones')\n",
        "plt.show()"
      ],
      "metadata": {
        "colab": {
          "base_uri": "https://localhost:8080/",
          "height": 230
        },
        "id": "6H86AeRgKlVC",
        "outputId": "e43cd619-abbd-4300-91ca-518bb4b887a5"
      },
      "execution_count": null,
      "outputs": [
        {
          "output_type": "display_data",
          "data": {
            "text/plain": [
              "<Figure size 600x400 with 2 Axes>"
            ],
            "image/png": "[encoded data removed]"
          },
          "metadata": {}
        }
      ]
    }
  ]
}